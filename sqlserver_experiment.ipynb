{
 "cells": [
  {
   "cell_type": "code",
   "execution_count": 70,
   "metadata": {},
   "outputs": [],
   "source": [
    "import os\n",
    "import pyodbc\n",
    "from dotenv import load_dotenv"
   ]
  },
  {
   "cell_type": "code",
   "execution_count": 71,
   "metadata": {},
   "outputs": [],
   "source": [
    "load_dotenv()\n",
    "\n",
    "sql_server_host = os.getenv('SQL_SERVER_HOST')\n",
    "sql_server_database = os.getenv('SQL_SERVER_DATABASE')\n",
    "sql_server_user = os.getenv('SQL_SERVER_USER')\n",
    "sql_server_password = os.getenv('SQL_SERVER_PASSWORD')\n",
    "\n",
    "connection_string = f\"DRIVER={{ODBC Driver 17 for SQL Server}};SERVER={sql_server_host};DATABASE={sql_server_database};UID={sql_server_user};PWD={sql_server_password}\""
   ]
  },
  {
   "cell_type": "code",
   "execution_count": 72,
   "metadata": {},
   "outputs": [
    {
     "name": "stdout",
     "output_type": "stream",
     "text": [
      "Connection successful!\n",
      "(274, None, None, Decimal('0.0000'), Decimal('0.0000'), Decimal('559697.5639'), Decimal('0.0000'), '48754992-9EE0-4C0E-8C94-9451604E3E02', datetime.datetime(2010, 12, 28, 0, 0))\n",
      "(275, 2, Decimal('300000.0000'), Decimal('4100.0000'), Decimal('0.0120'), Decimal('3763178.1787'), Decimal('1750406.4785'), '1E0A7274-3064-4F58-88EE-4C6586C87169', datetime.datetime(2011, 5, 24, 0, 0))\n",
      "(276, 4, Decimal('250000.0000'), Decimal('2000.0000'), Decimal('0.0150'), Decimal('4251368.5497'), Decimal('1439156.0291'), '4DD9EEE4-8E81-4F8C-AF97-683394C1F7C0', datetime.datetime(2011, 5, 24, 0, 0))\n",
      "(277, 3, Decimal('250000.0000'), Decimal('2500.0000'), Decimal('0.0150'), Decimal('3189418.3662'), Decimal('1997186.2037'), '39012928-BFEC-4242-874D-423162C3F567', datetime.datetime(2011, 5, 24, 0, 0))\n",
      "(278, 6, Decimal('250000.0000'), Decimal('500.0000'), Decimal('0.0100'), Decimal('1453719.4653'), Decimal('1620276.8966'), '7A0AE1AB-B283-40F9-91D1-167ABF06D720', datetime.datetime(2011, 5, 24, 0, 0))\n",
      "(279, 5, Decimal('300000.0000'), Decimal('6700.0000'), Decimal('0.0100'), Decimal('2315185.6110'), Decimal('1849640.9418'), '52A5179D-3239-4157-AE29-17E868296DC0', datetime.datetime(2011, 5, 24, 0, 0))\n",
      "(280, 1, Decimal('250000.0000'), Decimal('5000.0000'), Decimal('0.0100'), Decimal('1352577.1325'), Decimal('1927059.1780'), 'BE941A4A-FB50-4947-BDA4-BB8972365B08', datetime.datetime(2011, 5, 24, 0, 0))\n",
      "(281, 4, Decimal('250000.0000'), Decimal('3550.0000'), Decimal('0.0100'), Decimal('2458535.6169'), Decimal('2073505.9999'), '35326DDB-7278-4FEF-B3BA-EA137B69094E', datetime.datetime(2011, 5, 24, 0, 0))\n",
      "(282, 6, Decimal('250000.0000'), Decimal('5000.0000'), Decimal('0.0150'), Decimal('2604540.7172'), Decimal('2038234.6549'), '31FD7FC1-DC84-4F05-B9A0-762519EACACC', datetime.datetime(2011, 5, 24, 0, 0))\n",
      "(283, 1, Decimal('250000.0000'), Decimal('3500.0000'), Decimal('0.0120'), Decimal('1573012.9383'), Decimal('1371635.3158'), '6BAC15B2-8FFB-45A9-B6D5-040E16C2073F', datetime.datetime(2011, 5, 24, 0, 0))\n",
      "(284, 1, Decimal('300000.0000'), Decimal('3900.0000'), Decimal('0.0190'), Decimal('1576562.1966'), Decimal('0.0000'), 'AC94EC04-A2DC-43E3-8654-DD0C546ABC17', datetime.datetime(2012, 9, 23, 0, 0))\n",
      "(285, None, None, Decimal('0.0000'), Decimal('0.0000'), Decimal('172524.4512'), Decimal('0.0000'), 'CFDBEF27-B1F7-4A56-A878-0221C73BAE67', datetime.datetime(2013, 3, 7, 0, 0))\n",
      "(286, 9, Decimal('250000.0000'), Decimal('5650.0000'), Decimal('0.0180'), Decimal('1421810.9242'), Decimal('2278548.9776'), '9B968777-75DC-45BD-A8DF-9CDAA72839E1', datetime.datetime(2013, 5, 23, 0, 0))\n",
      "(287, None, None, Decimal('0.0000'), Decimal('0.0000'), Decimal('519905.9320'), Decimal('0.0000'), '1DD1F689-DF74-4149-8600-59555EEF154B', datetime.datetime(2012, 4, 9, 0, 0))\n",
      "(288, 8, Decimal('250000.0000'), Decimal('75.0000'), Decimal('0.0180'), Decimal('1827066.7118'), Decimal('1307949.7917'), '224BB25A-62E3-493E-ACAF-4F8F5C72396A', datetime.datetime(2013, 5, 23, 0, 0))\n",
      "(289, 10, Decimal('250000.0000'), Decimal('5150.0000'), Decimal('0.0200'), Decimal('4116871.2277'), Decimal('1635823.3967'), '25F6838D-9DB4-4833-9DDC-7A24283AF1BA', datetime.datetime(2012, 5, 23, 0, 0))\n",
      "(290, 7, Decimal('250000.0000'), Decimal('985.0000'), Decimal('0.0160'), Decimal('3121616.3202'), Decimal('2396539.7601'), 'F509E3D4-76C8-42AA-B353-90B7B8DB08DE', datetime.datetime(2012, 5, 23, 0, 0))\n"
     ]
    }
   ],
   "source": [
    "try:\n",
    "    connection = pyodbc.connect(connection_string)\n",
    "    print(\"Connection successful!\")\n",
    "\n",
    "    # Use the connection (example: querying data)\n",
    "    cursor = connection.cursor()\n",
    "    cursor.execute(\n",
    "        \"\"\"\n",
    "        SELECT TOP (1000) \n",
    "             [BusinessEntityID]\n",
    "            ,[TerritoryID]\n",
    "            ,[SalesQuota]\n",
    "            ,[Bonus]\n",
    "            ,[CommissionPct]\n",
    "            ,[SalesYTD]\n",
    "            ,[SalesLastYear]\n",
    "            ,[rowguid]\n",
    "            ,[ModifiedDate]\n",
    "        FROM [AdventureWorks].[Sales].[SalesPerson]\n",
    "        \"\"\")\n",
    "    for row in cursor.fetchall():\n",
    "        print(row)\n",
    "\n",
    "except Exception as e:\n",
    "    print(f\"Error connecting to SQL Server: {e}\")\n",
    "\n",
    "finally:\n",
    "    # Close the connection if it was established\n",
    "    if 'connection' in locals() and connection:\n",
    "        connection.close()"
   ]
  },
  {
   "cell_type": "code",
   "execution_count": null,
   "metadata": {},
   "outputs": [],
   "source": []
  }
 ],
 "metadata": {
  "kernelspec": {
   "display_name": "env",
   "language": "python",
   "name": "python3"
  },
  "language_info": {
   "codemirror_mode": {
    "name": "ipython",
    "version": 3
   },
   "file_extension": ".py",
   "mimetype": "text/x-python",
   "name": "python",
   "nbconvert_exporter": "python",
   "pygments_lexer": "ipython3",
   "version": "3.13.0"
  }
 },
 "nbformat": 4,
 "nbformat_minor": 2
}
